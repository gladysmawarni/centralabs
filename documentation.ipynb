{
 "cells": [
  {
   "cell_type": "markdown",
   "metadata": {},
   "source": [
    "# Firebase documentation"
   ]
  },
  {
   "cell_type": "markdown",
   "metadata": {},
   "source": [
    "## To access database\n",
    "\n",
    "**in development mode** <br>\n",
    "When we are working locally, we need a `.json` file that holds our key.\n",
    "\n",
    "**in production mode** <br>\n",
    "When the app is deployed in streamlit cloud, there's a secrets file where we can put our keys and nobody can access it except the creator of the app.\n",
    "\n"
   ]
  },
  {
   "cell_type": "code",
   "execution_count": 1,
   "metadata": {},
   "outputs": [],
   "source": [
    "## Libraries\n",
    "from google.cloud import firestore\n",
    "from google.oauth2 import service_account\n",
    "import json\n",
    "\n",
    "import streamlit as st"
   ]
  },
  {
   "cell_type": "code",
   "execution_count": 2,
   "metadata": {},
   "outputs": [],
   "source": [
    "## Development mode\n",
    "db = firestore.Client.from_service_account_json(\"db/firestore-key.json\")\n",
    "\n",
    "## Production mode\n",
    "key_dict = json.loads(st.secrets[\"textkey\"])\n",
    "creds = service_account.Credentials.from_service_account_info(key_dict)\n",
    "db = firestore.Client(credentials=creds, project=\"centralabs99\")"
   ]
  },
  {
   "cell_type": "markdown",
   "metadata": {},
   "source": [
    "## To get data from database\n",
    "\n",
    "``` database.collection('name').document('key') ```\n",
    "<br>\n",
    "\n",
    "```database.collection('name').document('key').get().to_dict()```"
   ]
  },
  {
   "cell_type": "code",
   "execution_count": null,
   "metadata": {},
   "outputs": [],
   "source": [
    "# i want to get the time data from the user 4kiuta\n",
    "db.collection('time').document('4kiuta') # DocumentReference object\n",
    "\n",
    "# + .get()\n",
    "db.collection('time').document('4kiuta').get() # DocumentSnapshot object\n",
    "\n",
    "# + .to_dict()\n",
    "db.collection('time').document('4kiuta').get().to_dict() # Dictionary"
   ]
  },
  {
   "cell_type": "code",
   "execution_count": 35,
   "metadata": {},
   "outputs": [
    {
     "data": {
      "text/plain": [
       "[{'song': 'https://open.spotify.com/track/0h7QMc9ZRzA9QJrbEHytn2?si=c0a580fb1fc247bb',\n",
       "  'name': 'isabelle van hoorn',\n",
       "  'mood': ['😥', '🥳']},\n",
       " {'name': 'bernardo fernandes',\n",
       "  'mood': [],\n",
       "  'song': 'https://open.spotify.com/track/19YKaevk2bce4odJkP5L22?si=9d7f885c1f894b0d'},\n",
       " {'name': 'joseph franckenstein',\n",
       "  'mood': ['🤒'],\n",
       "  'song': 'https://open.spotify.com/track/4LRPiXqCikLlN15c3yImP7?si=268ca866a1164c49'}]"
      ]
     },
     "execution_count": 35,
     "metadata": {},
     "output_type": "execute_result"
    }
   ],
   "source": [
    "## if it is nested\n",
    "# i want to get the status  of the cohort DAFTOCT21 on 14 Nov 2022\n",
    "list_of_status = db.collection('status').document('November 14, 2022').collection('DAFTOCT21') # List\n",
    "\n",
    "[user_status.to_dict() for user_status in list_of_status.get()][2:5]"
   ]
  },
  {
   "cell_type": "code",
   "execution_count": 36,
   "metadata": {},
   "outputs": [
    {
     "data": {
      "text/plain": [
       "[('josé alexandre pereira', 'DAFTOCT21'),\n",
       " ('arthur spriet', 'DAFTOCT21'),\n",
       " ('asier rodriguez', 'DAFTAPR22'),\n",
       " ('bechir greije', 'DAFTJUL22')]"
      ]
     },
     "execution_count": 36,
     "metadata": {},
     "output_type": "execute_result"
    }
   ],
   "source": [
    "## if we want to get all documents in a collection\n",
    "registered = db.collection('registered')\n",
    "[(doc.to_dict()['name'], doc.to_dict()['cohort']) for doc in registered.stream()][:4]"
   ]
  },
  {
   "cell_type": "markdown",
   "metadata": {},
   "source": [
    "## To send data to database\n",
    "\n",
    "**if we want to replace everything in the document with a new data, with merge=True we will add the new data without deleting the old ones**\n",
    "<br>\n",
    "```\n",
    "ref = db.collection(name).document(key)\n",
    "ref.set({'key': 'value'})\n",
    "ref.set({'key': 'value'}, merge= True)\n",
    "```\n",
    "\n",
    "**if we want to update the data with the same key in the document**\n",
    "```\n",
    "ref = db.collection(name).document(key)\n",
    "ref.update({'key': 'value'})\n",
    "```"
   ]
  },
  {
   "cell_type": "code",
   "execution_count": null,
   "metadata": {},
   "outputs": [],
   "source": [
    "user_lab_ref = db.collection('labs').document('4kiuta')\n",
    "\n",
    "user_lab_ref.update({'labintropandas' : 'Delivered'})"
   ]
  },
  {
   "cell_type": "code",
   "execution_count": null,
   "metadata": {},
   "outputs": [],
   "source": [
    "user_time_ref = db.collection('labs').document('4kiuta')\n",
    "\n",
    "user_time_ref.set({'nonexistentlabs' : '12:00:00'}, merge=True)"
   ]
  }
 ],
 "metadata": {
  "kernelspec": {
   "display_name": "Python 3.10.6 ('.venv': pipenv)",
   "language": "python",
   "name": "python3"
  },
  "language_info": {
   "codemirror_mode": {
    "name": "ipython",
    "version": 3
   },
   "file_extension": ".py",
   "mimetype": "text/x-python",
   "name": "python",
   "nbconvert_exporter": "python",
   "pygments_lexer": "ipython3",
   "version": "3.10.6"
  },
  "orig_nbformat": 4,
  "vscode": {
   "interpreter": {
    "hash": "5a897b7f2ebfb1ecff8015be22dfa125e4a4b88d2a416278701663a420d5b34e"
   }
  }
 },
 "nbformat": 4,
 "nbformat_minor": 2
}
